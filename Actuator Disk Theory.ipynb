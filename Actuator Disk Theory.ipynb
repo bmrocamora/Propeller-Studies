{
 "cells": [
  {
   "cell_type": "code",
   "execution_count": 3,
   "metadata": {},
   "outputs": [],
   "source": [
    "import numpy as np\n",
    "import matplotlib.pyplot as plt\n",
    "from sympy.solvers import solve\n",
    "from sympy import Symbol"
   ]
  },
  {
   "cell_type": "code",
   "execution_count": 10,
   "metadata": {},
   "outputs": [],
   "source": [
    "rho = 1.225"
   ]
  },
  {
   "cell_type": "markdown",
   "metadata": {},
   "source": []
  },
  {
   "cell_type": "code",
   "execution_count": 34,
   "metadata": {},
   "outputs": [],
   "source": [
    "V = 100\n",
    "n = 10\n",
    "D = 10"
   ]
  },
  {
   "cell_type": "code",
   "execution_count": 35,
   "metadata": {},
   "outputs": [
    {
     "name": "stdout",
     "output_type": "stream",
     "text": [
      "1.0\n"
     ]
    }
   ],
   "source": [
    "J = V / (n*D)\n",
    "\n",
    "print(J)\n",
    "\n",
    "P = 100000\n",
    "P_bar = P / (rho * n ** 3 * D ** 5)\n",
    "\n",
    "print(P_bar)"
   ]
  },
  {
   "cell_type": "markdown",
   "metadata": {},
   "source": [
    "# Efficiency Calculation\n",
    "\n",
    "$$ \\frac{1 - \\eta_{ideal}}{\\eta_{ideal} ^ 3} = \\frac{2}{\\pi} \\frac{P}{\\rho V^3 D^2} $$\n",
    "\n",
    "Or, alternatively: \n",
    "\n",
    "$$ \\frac{1 - \\eta_{ideal}}{\\eta_{ideal} ^ 3} = \\frac{2}{\\pi} \\frac{1}{J ^ 3} \\frac{P}{\\rho n^3 D^5} $$\n"
   ]
  },
  {
   "cell_type": "code",
   "execution_count": 4,
   "metadata": {},
   "outputs": [],
   "source": [
    "x = Symbol('x')"
   ]
  },
  {
   "cell_type": "code",
   "execution_count": 73,
   "metadata": {},
   "outputs": [],
   "source": [
    "P_bar_vector = np.linspace(0, 1, 50, endpoint=True)\n",
    "\n",
    "eta_P_1 = []\n",
    "for P_bar in P_bar_vector:\n",
    "    rhs = (2 / np.pi) * (P_bar)\n",
    "\n",
    "    answer = solve((1-x) / x ** 3 - rhs, x)\n",
    "    eta_P_1.append(answer[0])\n",
    "\n",
    "eta_P_2 = []\n",
    "for P_bar in P_bar_vector:\n",
    "    rhs = (2 / np.pi) * (P_bar)\n",
    "\n",
    "    answer = solve((1-x) / x ** 3 - rhs, x)\n",
    "    eta_P_2.append(answer[0])    \n",
    "\n",
    "eta_P_3 = []\n",
    "for P_bar in P_bar_vector:\n",
    "    rhs = (2 / np.pi) * (P_bar)\n",
    "\n",
    "    answer = solve((1-x) / x ** 3 - rhs, x)\n",
    "    eta_P_3.append(answer[0])  "
   ]
  },
  {
   "cell_type": "code",
   "execution_count": 74,
   "metadata": {},
   "outputs": [
    {
     "data": {
      "text/plain": [
       "<matplotlib.legend.Legend at 0xdfced66400>"
      ]
     },
     "execution_count": 74,
     "metadata": {},
     "output_type": "execute_result"
    },
    {
     "data": {
      "image/png": "[encoded data removed]",
      "text/plain": [
       "<matplotlib.figure.Figure at 0xdfced66390>"
      ]
     },
     "metadata": {},
     "output_type": "display_data"
    }
   ],
   "source": [
    "plt.plot(P_bar_vector, eta_P_1, \n",
    "         P_bar_vector, eta_P_2,\n",
    "        P_bar_vector, eta_P_3)"
   ]
  },
  {
   "cell_type": "code",
   "execution_count": 75,
   "metadata": {},
   "outputs": [],
   "source": [
    "J_vector = np.linspace(0, 3, 50, endpoint=True)\n",
    "\n",
    "P_bar = 0.1\n",
    "eta_J_1 = []\n",
    "for J in J_vector:\n",
    "    rhs = (np.pi / 2) * (J ** 3) * (1 / P_bar)\n",
    "    answer = solve(x ** 3 / (1-x) - rhs, x)\n",
    "    eta_J_1.append(answer[0])\n",
    "    \n",
    "P_bar = 0.3\n",
    "eta_J_2 = []\n",
    "for J in J_vector:\n",
    "    rhs = (np.pi / 2) * (J ** 3) * (1 / P_bar)\n",
    "    answer = solve(x ** 3 / (1-x) - rhs, x)\n",
    "    eta_J_2.append(answer[0])    \n",
    "\n",
    "P_bar = 0.5\n",
    "eta_J_3 = []\n",
    "for J in J_vector:\n",
    "    rhs = (np.pi / 2) * (J ** 3) * (1 / P_bar)\n",
    "    answer = solve(x ** 3 / (1-x) - rhs, x)\n",
    "    eta_J_3.append(answer[0])    "
   ]
  },
  {
   "cell_type": "code",
   "execution_count": 77,
   "metadata": {},
   "outputs": [
    {
     "data": {
      "text/plain": [
       "[<matplotlib.lines.Line2D at 0xdfd01f7080>,\n",
       " <matplotlib.lines.Line2D at 0xdfd01f7320>,\n",
       " <matplotlib.lines.Line2D at 0xdfd01f7e80>]"
      ]
     },
     "execution_count": 77,
     "metadata": {},
     "output_type": "execute_result"
    },
    {
     "data": {
      "image/png": "[encoded data removed]",
      "text/plain": [
       "<matplotlib.figure.Figure at 0xdfce50e470>"
      ]
     },
     "metadata": {},
     "output_type": "display_data"
    }
   ],
   "source": [
    "plt.plot(J_vector, eta_J_1, \n",
    "         J_vector, eta_J_2,\n",
    "        J_vector, eta_J_3)\n",
    "plt.legend([r'$\\bar{P} = 0.1$', r'$\\bar{P} = 0.3$', r'$\\bar{P} = 0.5$'])"
   ]
  },
  {
   "cell_type": "code",
   "execution_count": null,
   "metadata": {},
   "outputs": [],
   "source": []
  }
 ],
 "metadata": {
  "kernelspec": {
   "display_name": "Python 3",
   "language": "python",
   "name": "python3"
  },
  "language_info": {
   "codemirror_mode": {
    "name": "ipython",
    "version": 3
   },
   "file_extension": ".py",
   "mimetype": "text/x-python",
   "name": "python",
   "nbconvert_exporter": "python",
   "pygments_lexer": "ipython3",
   "version": "3.6.4"
  }
 },
 "nbformat": 4,
 "nbformat_minor": 2
}
